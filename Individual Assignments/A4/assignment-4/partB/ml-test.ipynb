{
 "cells": [
  {
   "cell_type": "code",
   "execution_count": 74,
   "id": "d189eaf3-e3a6-494e-a091-4010bddf7358",
   "metadata": {
    "pycharm": {
     "name": "#%%\n"
    }
   },
   "outputs": [],
   "source": [
    "import numpy as np   \n",
    "import matplotlib.pyplot as plt    \n",
    "import pandas as pd   \n",
    "from google.cloud import storage"
   ]
  },
  {
   "cell_type": "code",
   "execution_count": 88,
   "id": "fe28e230-aa57-4367-a3c7-545ede5d9d98",
   "metadata": {
    "pycharm": {
     "name": "#%%\n"
    }
   },
   "outputs": [],
   "source": [
    "name = 'trainVector.csv'   \n",
    "bucket_name = 'traindatab00872269'\n",
    "\n",
    "storage_client = storage.Client()\n",
    "bucket = storage_client.get_bucket(bucket_name)\n",
    "blob = bucket.blob(name)\n",
    "dest_file = '/tmp/'+ name\n",
    "blob.download_to_filename(dest_file)\n",
    "dataset=pd.read_csv(dest_file)"
   ]
  },
  {
   "cell_type": "code",
   "execution_count": 89,
   "id": "c27097b9-58ef-48e9-8ce0-1e9f669e415e",
   "metadata": {
    "pycharm": {
     "name": "#%%\n"
    }
   },
   "outputs": [
    {
     "data": {
      "text/html": [
       "<div>\n",
       "<style scoped>\n",
       "    .dataframe tbody tr th:only-of-type {\n",
       "        vertical-align: middle;\n",
       "    }\n",
       "\n",
       "    .dataframe tbody tr th {\n",
       "        vertical-align: top;\n",
       "    }\n",
       "\n",
       "    .dataframe thead th {\n",
       "        text-align: right;\n",
       "    }\n",
       "</style>\n",
       "<table border=\"1\" class=\"dataframe\">\n",
       "  <thead>\n",
       "    <tr style=\"text-align: right;\">\n",
       "      <th></th>\n",
       "      <th>Current_Word</th>\n",
       "      <th>Next_Word</th>\n",
       "      <th>Levenshtein_distance</th>\n",
       "    </tr>\n",
       "  </thead>\n",
       "  <tbody>\n",
       "    <tr>\n",
       "      <th>0</th>\n",
       "      <td>Mobiles</td>\n",
       "      <td>Mobile</td>\n",
       "      <td>1</td>\n",
       "    </tr>\n",
       "    <tr>\n",
       "      <th>1</th>\n",
       "      <td>Mobile</td>\n",
       "      <td>UK</td>\n",
       "      <td>6</td>\n",
       "    </tr>\n",
       "    <tr>\n",
       "      <th>2</th>\n",
       "      <td>UK</td>\n",
       "      <td>Britains</td>\n",
       "      <td>8</td>\n",
       "    </tr>\n",
       "    <tr>\n",
       "      <th>3</th>\n",
       "      <td>Britains</td>\n",
       "      <td>Vodafone</td>\n",
       "      <td>7</td>\n",
       "    </tr>\n",
       "    <tr>\n",
       "      <th>4</th>\n",
       "      <td>Vodafone</td>\n",
       "      <td>January</td>\n",
       "      <td>8</td>\n",
       "    </tr>\n",
       "  </tbody>\n",
       "</table>\n",
       "</div>"
      ],
      "text/plain": [
       "  Current_Word Next_Word  Levenshtein_distance\n",
       "0      Mobiles    Mobile                     1\n",
       "1       Mobile        UK                     6\n",
       "2           UK  Britains                     8\n",
       "3     Britains  Vodafone                     7\n",
       "4     Vodafone   January                     8"
      ]
     },
     "execution_count": 89,
     "metadata": {},
     "output_type": "execute_result"
    }
   ],
   "source": [
    "dataset.head()"
   ]
  },
  {
   "cell_type": "code",
   "execution_count": 90,
   "id": "73b2c4b7-a078-4706-a563-1beaa6fb188b",
   "metadata": {
    "pycharm": {
     "name": "#%%\n"
    }
   },
   "outputs": [],
   "source": [
    "features = dataset[['Levenshtein_distance']]  "
   ]
  },
  {
   "cell_type": "code",
   "execution_count": 91,
   "id": "401e88ae-2854-4f28-8e0c-76d9618283de",
   "metadata": {
    "pycharm": {
     "name": "#%%\n"
    }
   },
   "outputs": [
    {
     "data": {
      "image/png": "[encoded data removed]",
      "text/plain": [
       "<Figure size 432x288 with 1 Axes>"
      ]
     },
     "metadata": {
      "needs_background": "light"
     },
     "output_type": "display_data"
    }
   ],
   "source": [
    "from sklearn.cluster import KMeans  \n",
    "wcss_list= []  #Initializing the list for the values of WCSS  \n",
    "  \n",
    "#Using for loop for iterations from 1 to 10.  \n",
    "for i in range(1, 11):  \n",
    "    kmeans = KMeans(n_clusters=i, init='k-means++', random_state= 42)  \n",
    "    kmeans.fit(features)  \n",
    "    wcss_list.append(kmeans.inertia_)  \n",
    "plt.plot(range(1, 11), wcss_list)  \n",
    "plt.title('The Elbow Method Graph')  \n",
    "plt.xlabel('Number of clusters(k)')  \n",
    "plt.ylabel('wcss_list')  \n",
    "plt.show()  "
   ]
  },
  {
   "cell_type": "code",
   "execution_count": 92,
   "id": "49020d9f-14a8-47d8-8764-83c883e944dc",
   "metadata": {
    "pycharm": {
     "name": "#%%\n"
    }
   },
   "outputs": [],
   "source": [
    "#training the K-means model on a dataset  \n",
    "kmeans = KMeans(n_clusters=5, init='k-means++', random_state= 42)  \n",
    "y_predict= kmeans.fit_predict(features)  "
   ]
  },
  {
   "cell_type": "code",
   "execution_count": 93,
   "id": "725430ca-a525-45a4-9d5d-ca0f397d35d2",
   "metadata": {
    "pycharm": {
     "name": "#%%\n"
    }
   },
   "outputs": [
    {
     "data": {
      "image/png": "[encoded data removed]",
      "text/plain": [
       "<Figure size 432x288 with 1 Axes>"
      ]
     },
     "metadata": {
      "needs_background": "light"
     },
     "output_type": "display_data"
    }
   ],
   "source": [
    "features=np.array(features)\n",
    "plt.scatter(features[y_predict == 0], features[y_predict == 0], s = 100, c = 'blue', label = 'Cluster 1') #for first cluster  \n",
    "plt.scatter(features[y_predict == 1], features[y_predict == 1], s = 100, c = 'green', label = 'Cluster 2') #for second cluster  \n",
    "plt.scatter(features[y_predict== 2], features[y_predict == 2], s = 100, c = 'red', label = 'Cluster 3') #for third cluster  \n",
    "plt.scatter(features[y_predict == 3], features[y_predict == 3], s = 100, c = 'cyan', label = 'Cluster 4') #for fourth cluster  \n",
    "plt.scatter(features[y_predict == 4], features[y_predict == 4], s = 100, c = 'magenta', label = 'Cluster 5') #for fifth cluster  \n",
    "plt.scatter(kmeans.cluster_centers_[:], kmeans.cluster_centers_[:], s = 300, c = 'yellow', label = 'Centroid')   \n",
    "plt.title('Clusters of tweets')  \n",
    "plt.xlabel('x')  \n",
    "plt.ylabel('y')  \n",
    "plt.legend()  \n",
    "plt.show()  "
   ]
  },
  {
   "cell_type": "code",
   "execution_count": 81,
   "id": "689e3829-14c9-4312-a2f1-75e867ad4008",
   "metadata": {
    "pycharm": {
     "name": "#%%\n"
    }
   },
   "outputs": [],
   "source": [
    "name = 'testVector.csv'   \n",
    "bucket_name = 'testdatab00872269'\n",
    "\n",
    "storage_client = storage.Client()\n",
    "bucket = storage_client.get_bucket(bucket_name)\n",
    "blob = bucket.blob(name)\n",
    "dest_file = '/tmp/'+ name\n",
    "blob.download_to_filename(dest_file)\n",
    "dataset=pd.read_csv(dest_file)"
   ]
  },
  {
   "cell_type": "code",
   "execution_count": 82,
   "id": "27abfa58-20fa-4950-83ca-83fca687c390",
   "metadata": {
    "pycharm": {
     "name": "#%%\n"
    }
   },
   "outputs": [
    {
     "data": {
      "text/html": [
       "<div>\n",
       "<style scoped>\n",
       "    .dataframe tbody tr th:only-of-type {\n",
       "        vertical-align: middle;\n",
       "    }\n",
       "\n",
       "    .dataframe tbody tr th {\n",
       "        vertical-align: top;\n",
       "    }\n",
       "\n",
       "    .dataframe thead th {\n",
       "        text-align: right;\n",
       "    }\n",
       "</style>\n",
       "<table border=\"1\" class=\"dataframe\">\n",
       "  <thead>\n",
       "    <tr style=\"text-align: right;\">\n",
       "      <th></th>\n",
       "      <th>Current_Word</th>\n",
       "      <th>Next_Word</th>\n",
       "      <th>Levenshtein_distance</th>\n",
       "    </tr>\n",
       "  </thead>\n",
       "  <tbody>\n",
       "    <tr>\n",
       "      <th>0</th>\n",
       "      <td>Older</td>\n",
       "      <td>PCs</td>\n",
       "      <td>5</td>\n",
       "    </tr>\n",
       "    <tr>\n",
       "      <th>1</th>\n",
       "      <td>PCs</td>\n",
       "      <td>Preventon</td>\n",
       "      <td>8</td>\n",
       "    </tr>\n",
       "    <tr>\n",
       "      <th>2</th>\n",
       "      <td>Preventon</td>\n",
       "      <td>PC</td>\n",
       "      <td>8</td>\n",
       "    </tr>\n",
       "    <tr>\n",
       "      <th>3</th>\n",
       "      <td>PC</td>\n",
       "      <td>PCs</td>\n",
       "      <td>1</td>\n",
       "    </tr>\n",
       "    <tr>\n",
       "      <th>4</th>\n",
       "      <td>PCs</td>\n",
       "      <td>Paul</td>\n",
       "      <td>3</td>\n",
       "    </tr>\n",
       "  </tbody>\n",
       "</table>\n",
       "</div>"
      ],
      "text/plain": [
       "  Current_Word  Next_Word  Levenshtein_distance\n",
       "0        Older        PCs                     5\n",
       "1          PCs  Preventon                     8\n",
       "2    Preventon         PC                     8\n",
       "3           PC        PCs                     1\n",
       "4          PCs       Paul                     3"
      ]
     },
     "execution_count": 82,
     "metadata": {},
     "output_type": "execute_result"
    }
   ],
   "source": [
    "dataset.head()"
   ]
  },
  {
   "cell_type": "code",
   "execution_count": 83,
   "id": "2faf4a6f-f144-4c4b-b668-6de8d684202d",
   "metadata": {
    "pycharm": {
     "name": "#%%\n"
    }
   },
   "outputs": [],
   "source": [
    "features = dataset[['Levenshtein_distance']]  "
   ]
  },
  {
   "cell_type": "code",
   "execution_count": 84,
   "id": "0c865b71-447d-461a-9c71-4e4f334389e2",
   "metadata": {
    "pycharm": {
     "name": "#%%\n"
    }
   },
   "outputs": [],
   "source": [
    "#training the K-means model on a dataset  \n",
    "kmeans = KMeans(n_clusters=5, init='k-means++', random_state= 42)  \n",
    "y_predict= kmeans.fit_predict(features) "
   ]
  },
  {
   "cell_type": "code",
   "execution_count": 86,
   "id": "544366a0-9038-4625-9385-50d516e0b9be",
   "metadata": {
    "pycharm": {
     "name": "#%%\n"
    }
   },
   "outputs": [
    {
     "data": {
      "image/png": "[encoded data removed]",
      "text/plain": [
       "<Figure size 432x288 with 1 Axes>"
      ]
     },
     "metadata": {
      "needs_background": "light"
     },
     "output_type": "display_data"
    }
   ],
   "source": [
    "#visulaizing the clusters  \n",
    "features=np.array(features)\n",
    "plt.scatter(features[y_predict == 0], features[y_predict == 0], s = 100, c = 'blue', label = 'Cluster 1') #for first cluster  \n",
    "plt.scatter(features[y_predict == 1], features[y_predict == 1], s = 100, c = 'green', label = 'Cluster 2') #for second cluster  \n",
    "plt.scatter(features[y_predict== 2], features[y_predict == 2], s = 100, c = 'red', label = 'Cluster 3') #for third cluster  \n",
    "plt.scatter(features[y_predict == 3], features[y_predict == 3], s = 100, c = 'cyan', label = 'Cluster 4') #for fourth cluster  \n",
    "plt.scatter(features[y_predict == 4], features[y_predict == 4], s = 100, c = 'magenta', label = 'Cluster 5') #for fifth cluster  \n",
    "plt.scatter(kmeans.cluster_centers_[:], kmeans.cluster_centers_[:], s = 300, c = 'yellow', label = 'Centroid')   \n",
    "plt.title('Clusters of tweets')  \n",
    "plt.xlabel('x')  \n",
    "plt.ylabel('y')  \n",
    "plt.legend()  \n",
    "plt.show()  "
   ]
  },
  {
   "cell_type": "code",
   "execution_count": null,
   "id": "4f5e35eb-7ee0-42e7-9ae9-9d174e3df653",
   "metadata": {
    "pycharm": {
     "name": "#%%\n"
    }
   },
   "outputs": [],
   "source": []
  }
 ],
 "metadata": {
  "environment": {
   "kernel": "python3",
   "name": "common-cpu.m94",
   "type": "gcloud",
   "uri": "gcr.io/deeplearning-platform-release/base-cpu:m94"
  },
  "kernelspec": {
   "display_name": "Python 3",
   "language": "python",
   "name": "python3"
  },
  "language_info": {
   "codemirror_mode": {
    "name": "ipython",
    "version": 3
   },
   "file_extension": ".py",
   "mimetype": "text/x-python",
   "name": "python",
   "nbconvert_exporter": "python",
   "pygments_lexer": "ipython3",
   "version": "3.7.12"
  }
 },
 "nbformat": 4,
 "nbformat_minor": 5
}